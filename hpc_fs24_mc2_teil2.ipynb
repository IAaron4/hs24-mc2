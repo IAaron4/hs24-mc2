{
 "cells": [
  {
   "cell_type": "markdown",
   "metadata": {},
   "source": [
    "# HPC Mini-Challenge 2 - Beschleunigung in Data Science\n",
    "## Teil 2: GPU\n",
    "#### FHNW - FS2024\n",
    "\n",
    "Original von S. Suter, angepasst von S. Marcin und M. Stutz\n",
    "\n",
    "Abgabe von: <font color='blue'>Studer Aaron</font>\n",
    "\n",
    "#### Ressourcen\n",
    "* [Überblick GPU Programmierung](https://www.cherryservers.com/blog/introduction-to-gpu-programming-with-cuda-and-python)\n",
    "* [CUDA Basic Parts](https://nyu-cds.github.io/python-gpu/02-cuda/)\n",
    "* [Accelerate Code with CuPy](https://towardsdatascience.com/heres-how-to-use-cupy-to-make-numpy-700x-faster-4b920dda1f56)\n",
    "* Vorlesungen und Beispiele aus dem Informatikkurs PAC (parallel computing), siehe Ordner \"resources\"\n",
    "* CSCS \"High-Performance Computing with Python\" Kurs, Tag 3: \n",
    "    - JIT Numba GPU 1 + 2\n",
    "    - https://youtu.be/E4REVbCVxNQ\n",
    "    - https://github.com/eth-cscs/PythonHPC/tree/master/numba-cuda\n",
    "    - Siehe auch aktuelles Tutorial von 2021\n",
    "* [Google CoLab](https://colab.research.google.com/) oder ggf. eigene GPU.\n"
   ]
  },
  {
   "cell_type": "code",
   "execution_count": 1,
   "metadata": {},
   "outputs": [
    {
     "name": "stdout",
     "output_type": "stream",
     "text": [
      "Defaulting to user installation because normal site-packages is not writeable\n",
      "Requirement already satisfied: numba in /home/paperspace/.local/lib/python3.10/site-packages (0.60.0)\n",
      "Requirement already satisfied: llvmlite<0.44,>=0.43.0dev0 in /home/paperspace/.local/lib/python3.10/site-packages (from numba) (0.43.0)\n",
      "Requirement already satisfied: numpy<2.1,>=1.22 in /home/paperspace/.local/lib/python3.10/site-packages (from numba) (2.0.2)\n"
     ]
    }
   ],
   "source": [
    "!pip install numba"
   ]
  },
  {
   "cell_type": "code",
   "execution_count": 2,
   "metadata": {
    "pycharm": {
     "is_executing": true
    }
   },
   "outputs": [
    {
     "name": "stderr",
     "output_type": "stream",
     "text": [
      "/home/paperspace/.local/lib/python3.10/site-packages/numba/cuda/dispatcher.py:536: NumbaPerformanceWarning: \u001b[1mGrid size 4 will likely result in GPU under-utilization due to low occupancy.\u001b[0m\n",
      "  warn(NumbaPerformanceWarning(msg))\n"
     ]
    },
    {
     "data": {
      "text/plain": [
       "array([ 0.       ,  1.       ,  1.4142135, ..., 63.97656  , 63.98437  ,\n",
       "       63.992188 ], dtype=float32)"
      ]
     },
     "execution_count": 2,
     "metadata": {},
     "output_type": "execute_result"
    }
   ],
   "source": [
    "# Dummy Beispiel zum testen mit Numba\n",
    "import math\n",
    "from numba import vectorize\n",
    "import numpy as np\n",
    "\n",
    "@vectorize(['float32(float32)'], target='cuda')\n",
    "def gpu_sqrt(x):\n",
    "    return math.sqrt(x)\n",
    "  \n",
    "\n",
    "a = np.arange(4096,dtype=np.float32)\n",
    "gpu_sqrt(a)"
   ]
  },
  {
   "cell_type": "markdown",
   "metadata": {},
   "source": [
    "### 5 GPU Rekonstruktion\n",
    "\n",
    "Implementiere eine SVD-Rekonstruktionsvariante auf der GPU oder in einem hybriden Setting. Code aus dem ersten Teil darf dabei verwendet werden. Wähle  bewusst, welche Teile des Algorithms in einem GPU Kernel implementiert werden und welche effizienter auf der CPU sind. Ziehe dafür Erkenntnisse aus dem ersten Teil mit ein. Es muss mindestens eine Komponente des Algorithmuses in einem GPU-Kernel implementiert werden. Dokumentiere Annahmen, welche du ggf. zur Vereinfachung triffst. Evaluiere, ob du mit CuPy oder Numba arbeiten möchtest.\n",
    "\n",
    "Links:\n",
    "* [Examples: Matrix Multiplikation](https://numba.readthedocs.io/en/latest/cuda/examples.html)"
   ]
  },
  {
   "cell_type": "markdown",
   "metadata": {},
   "source": [
    "Ich habe 5 verschiedene Testfälle erstellt, die unterschiedliche Szenarien abdecken:\n",
    "\n",
    "- Kleine Matrizen (128x128): Gute Baseline für schnelle Operationen\n",
    "- Mittelkleine rechteckige Matrizen (512x256 * 256x512): Testet nicht-quadratische Matrizen\n",
    "- Mittlere Matrizen (1024x1024): Übliche Größe für viele Anwendungen\n",
    "- Große rechteckige Matrizen (2048x1536 * 1536x512): Testet verschiedene Dimensionen mit größeren Matrizen\n",
    "- Maximale Matrizen (4000x4000): Testet die angegebene Obergrenze\n",
    "\n",
    "Jeder Testfall:\n",
    "\n",
    "- Erstellt zufällige Matrizen mit cp.random oder np.random\n",
    "- Nutzt automatisch CUDA, falls verfügbar\n",
    "- Gibt das Ergebnis der Matrixmultiplikation zurück"
   ]
  },
  {
   "cell_type": "code",
   "execution_count": null,
   "metadata": {},
   "outputs": [],
   "source": [
    "paperspace@psxnjqiaev3w:~/working_dir/hs24-mc2/Work_Aaron/Exercise_1$ python3 Exercise_1.py\n",
    "Starting benchmarks...\n",
    "\n",
    "Running CuPy benchmarks...\n",
    "CuPy detected 1 CUDA device(s)\n",
    "Device 0: Quadro RTX 4000\n",
    "\n",
    "Running CUPY benchmarks:\n",
    "==================================================\n",
    "\n",
    "Executing Small (128x128)\n",
    "Warming up GPU...\n",
    "Warmup complete\n",
    "Run 1: 0.23 ms\n",
    "Run 2: 0.22 ms\n",
    "Run 3: 0.21 ms\n",
    "\n",
    "Executing Medium-small (512x256 * 256x512)\n",
    "Warming up GPU...\n",
    "Warmup complete\n",
    "Run 1: 0.38 ms\n",
    "Run 2: 0.34 ms\n",
    "Run 3: 0.34 ms\n",
    "\n",
    "Executing Medium (1024x1024)\n",
    "Warming up GPU...\n",
    "Warmup complete\n",
    "Run 1: 0.97 ms\n",
    "Run 2: 0.95 ms\n",
    "Run 3: 0.95 ms\n",
    "\n",
    "Executing Large rectangular (2048x1536 * 1536x512)\n",
    "Warming up GPU...\n",
    "Warmup complete\n",
    "Run 1: 1.46 ms\n",
    "Run 2: 1.55 ms\n",
    "Run 3: 1.46 ms\n",
    "\n",
    "Executing Maximum (4000x4000)\n",
    "Warming up GPU...\n",
    "Warmup complete\n",
    "Run 1: 21.03 ms\n",
    "Run 2: 20.26 ms\n",
    "Run 3: 21.27 ms\n",
    "\n",
    "Running Numba benchmarks...\n",
    "CUDA available for Numba\n",
    "Current device: b'Quadro RTX 4000'\n",
    "\n",
    "Running NUMBA benchmarks:\n",
    "==================================================\n",
    "\n",
    "Executing Small (128x128)\n",
    "Warming up GPU...\n",
    "/home/paperspace/.local/lib/python3.10/site-packages/numba/cuda/dispatcher.py:536: NumbaPerformanceWarning: Grid size 64 will likely result in GPU under-utilization due to low occupancy.\n",
    "  warn(NumbaPerformanceWarning(msg))\n",
    "Warmup complete\n",
    "Run 1: 1.67 ms\n",
    "Run 2: 1.64 ms\n",
    "Run 3: 1.61 ms\n",
    "\n",
    "Executing Medium-small (512x256 * 256x512)\n",
    "Warming up GPU...\n",
    "Warmup complete\n",
    "Run 1: 9.02 ms\n",
    "Run 2: 9.06 ms\n",
    "Run 3: 9.32 ms\n",
    "\n",
    "Executing Medium (1024x1024)\n",
    "Warming up GPU...\n",
    "Warmup complete\n",
    "Run 1: 83.40 ms\n",
    "Run 2: 81.81 ms\n",
    "Run 3: 83.49 ms\n",
    "\n",
    "Executing Large rectangular (2048x1536 * 1536x512)\n",
    "Warming up GPU...\n",
    "Warmup complete\n",
    "Run 1: 142.08 ms\n",
    "Run 2: 143.19 ms\n",
    "Run 3: 148.23 ms\n",
    "\n",
    "Executing Maximum (4000x4000)\n",
    "Warming up GPU...\n",
    "Warmup complete\n",
    "Run 1: 2099.00 ms\n",
    "Run 2: 2087.01 ms\n",
    "Run 3: 2104.43 ms\n",
    "\n",
    "Generating comparative visualization...\n",
    "\n",
    "Detailed Statistics:\n",
    "================================================================================\n",
    "                                  Test Case CuPy Mean (ms) Numba Mean (ms) Speedup (CuPy/Numba)\n",
    "0                           Small (128x128)    0.22 ± 0.01     1.64 ± 0.02                7.52x\n",
    "1          Medium-small (512x256 * 256x512)    0.35 ± 0.02     9.13 ± 0.14               25.80x\n",
    "2                        Medium (1024x1024)    0.96 ± 0.01    82.90 ± 0.77               86.62x\n",
    "3  Large rectangular (2048x1536 * 1536x512)    1.49 ± 0.04   144.50 ± 2.68               97.13x\n",
    "4                       Maximum (4000x4000)   20.85 ± 0.43  2096.81 ± 7.28              100.55x"
   ]
  },
  {
   "cell_type": "code",
   "execution_count": null,
   "metadata": {},
   "outputs": [],
   "source": [
    "import pandas as pd\n",
    "import seaborn as sns\n",
    "import matplotlib.pyplot as plt\n",
    "\n",
    "df = pd.read_csv('Work_Aaron/Exercise_2/gpu_experiment_results.csv')\n",
    "\n",
    "# Execution time comparison\n",
    "plt.figure(figsize=(15, 7))\n",
    "sns.barplot(data=df, x='Test Case', y='Mean Time (s)', \n",
    "            hue='Implementation', capsize=0.1)\n",
    "plt.title('Matrix Multiplication Performance Comparison')\n",
    "plt.xticks(rotation=45)\n",
    "plt.yscale('log')  # Log scale for better visualization\n",
    "plt.tight_layout()\n",
    "plt.show()\n",
    "\n",
    "# Calculate speedups relative to CPU\n",
    "df_pivot = df.pivot(index='Test Case', columns='Implementation', \n",
    "                   values='Mean Time (s)')\n",
    "df_speedup = pd.DataFrame(index=df_pivot.index)\n",
    "cpu_times = df_pivot['NumPy (CPU)']\n",
    "\n",
    "for impl in ['CuPy', 'Numba']:\n",
    "    df_speedup[f'{impl} Speedup'] = cpu_times / df_pivot[impl]\n",
    "\n",
    "plt.figure(figsize=(15, 7))\n",
    "for col in df_speedup.columns:\n",
    "    plt.plot(df_speedup.index, df_speedup[col], 'o-', label=col, linewidth=2, markersize=10)\n",
    "plt.title('GPU Speedup over CPU')\n",
    "plt.xlabel('Test Case')\n",
    "plt.ylabel('Speedup Factor (higher is better)')\n",
    "plt.grid(True, alpha=0.3)\n",
    "plt.legend()\n",
    "plt.xticks(rotation=45)\n",
    "plt.tight_layout()\n",
    "plt.show()"
   ]
  },
  {
   "cell_type": "markdown",
   "metadata": {},
   "source": [
    "<font color='blue'>\n",
    "Also man sieht eigentlich ziemlich klar, das man mit CUPY viel schneller ist in dem ersten Run. Aber nach ein bisschen Recherche habe ich festgestellt, dass es damit zusammenhängen muss (https://numba.pydata.org/numba-doc/dev/cuda/examples.html) mit dem Device Memory. Diese Implementierung von der numba Matrix Multiplikation ist einfach und intuitiv, hat aber eine schlechte Leistung, da dieselben Matrixelemente mehrfach aus dem Gerätespeicher geladen werden, was langsam ist. In der Nächsten Auswertung habe ich das ganze nochmals probiert mit der vorgeschlagenen Lösung aus (https://numba.pydata.org/numba-doc/dev/cuda/examples.html).\n",
    "\n",
    "Also jeglichen Code lasse ich vor dem Measurement noch 10 mal im WarmUp laufen. Nach der Absprache mit @Simon Marcin, hat er mich darauf hingewiesen. (https://forums.developer.nvidia.com/t/why-warm-up/48565/4)</font>"
   ]
  },
  {
   "cell_type": "code",
   "execution_count": null,
   "metadata": {},
   "outputs": [],
   "source": [
    "paperspace@psxnjqiaev3w:~/working_dir/hs24-mc2/Work_Aaron/Exercise_1_v2$ python3 Exercise_1.py\n",
    "Starting benchmarks...\n",
    "\n",
    "Running CuPy benchmarks...\n",
    "CuPy detected 1 CUDA device(s)\n",
    "Device 0: Quadro RTX 4000\n",
    "\n",
    "Running CUPY benchmarks:\n",
    "==================================================\n",
    "\n",
    "Executing Small (128x128)\n",
    "Warming up GPU...\n",
    "Warmup complete\n",
    "Run 1: 0.24 ms\n",
    "Run 2: 0.22 ms\n",
    "Run 3: 0.21 ms\n",
    "\n",
    "Executing Medium-small (512x256 * 256x512)\n",
    "Warming up GPU...\n",
    "Warmup complete\n",
    "Run 1: 0.43 ms\n",
    "Run 2: 0.37 ms\n",
    "Run 3: 0.37 ms\n",
    "\n",
    "Executing Medium (1024x1024)\n",
    "Warming up GPU...\n",
    "Warmup complete\n",
    "Run 1: 1.06 ms\n",
    "Run 2: 1.05 ms\n",
    "Run 3: 1.05 ms\n",
    "\n",
    "Executing Large rectangular (2048x1536 * 1536x512)\n",
    "Warming up GPU...\n",
    "Warmup complete\n",
    "Run 1: 1.57 ms\n",
    "Run 2: 1.57 ms\n",
    "Run 3: 1.57 ms\n",
    "\n",
    "Executing Maximum (4000x4000)\n",
    "Warming up GPU...\n",
    "Warmup complete\n",
    "Run 1: 21.30 ms\n",
    "Run 2: 21.00 ms\n",
    "Run 3: 20.54 ms\n",
    "\n",
    "Running Numba benchmarks...\n",
    "CUDA available for Numba\n",
    "Current device: b'Quadro RTX 4000'\n",
    "\n",
    "Running NUMBA benchmarks:\n",
    "==================================================\n",
    "\n",
    "Executing Small (128x128)\n",
    "Warming up GPU...\n",
    "/home/paperspace/.local/lib/python3.10/site-packages/numba/cuda/dispatcher.py:536: NumbaPerformanceWarning: Grid size 64 will likely result in GPU under-utilization due to low occupancy.\n",
    "  warn(NumbaPerformanceWarning(msg))\n",
    "Warmup complete\n",
    "Run 1: 1.64 ms\n",
    "Run 2: 1.68 ms\n",
    "Run 3: 1.64 ms\n",
    "\n",
    "Executing Medium-small (512x256 * 256x512)\n",
    "Warming up GPU...\n",
    "Warmup complete\n",
    "Run 1: 8.24 ms\n",
    "Run 2: 9.19 ms\n",
    "Run 3: 8.39 ms\n",
    "\n",
    "Executing Medium (1024x1024)\n",
    "Warming up GPU...\n",
    "Warmup complete\n",
    "Run 1: 70.09 ms\n",
    "Run 2: 68.21 ms\n",
    "Run 3: 65.33 ms\n",
    "\n",
    "Executing Large rectangular (2048x1536 * 1536x512)\n",
    "Warming up GPU...\n",
    "Warmup complete\n",
    "Run 1: 112.78 ms\n",
    "Run 2: 113.48 ms\n",
    "Run 3: 114.68 ms\n",
    "\n",
    "Executing Maximum (4000x4000)\n",
    "Warming up GPU...\n",
    "Warmup complete\n",
    "Run 1: 1175.67 ms\n",
    "Run 2: 1181.25 ms\n",
    "Run 3: 1169.96 ms\n",
    "\n",
    "Generating comparative visualization...\n",
    "\n",
    "Detailed Statistics:\n",
    "================================================================================\n",
    "                                  Test Case CuPy Mean (ms) Numba Mean (ms) Speedup (CuPy/Numba)\n",
    "0                           Small (128x128)    0.22 ± 0.01     1.65 ± 0.02                7.44x\n",
    "1          Medium-small (512x256 * 256x512)    0.39 ± 0.03     8.61 ± 0.42               22.16x\n",
    "2                        Medium (1024x1024)    1.05 ± 0.01    67.88 ± 1.96               64.55x\n",
    "3  Large rectangular (2048x1536 * 1536x512)    1.57 ± 0.00   113.65 ± 0.78               72.37x\n",
    "4                       Maximum (4000x4000)   20.94 ± 0.31  1175.63 ± 4.61               56.13x\n"
   ]
  },
  {
   "cell_type": "markdown",
   "metadata": {},
   "source": [
    "Also bei der Anpassung und beim Brauchen des Sharedmemories bin ich zuerst auf diverse Probleme gestossen, mir hat nach Recherche der folgende Artikel weitergeholfen. (https://stackoverflow.com/questions/64197780/how-to-generalize-fast-matrix-multiplication-on-gpu-using-numba). Man merkt das Shared Memory ist einiges Schneller. Jedoch sind wir im Vergleich zu Cupy immernoch einiges langsamer. Durch das Shared Memory wird bei grösseren Berechnungen viel Zeit gespart. Ich werde in dem kommenden Kapitel diverse Parameter testen."
   ]
  },
  {
   "cell_type": "code",
   "execution_count": null,
   "metadata": {},
   "outputs": [],
   "source": [
    "import pandas as pd\n",
    "import seaborn as sns\n",
    "import matplotlib.pyplot as plt\n",
    "\n",
    "df = pd.read_csv('Work_Aaron/Exercise_2/gpu_experiment_results.csv')\n",
    "\n",
    "# Execution time comparison\n",
    "plt.figure(figsize=(15, 7))\n",
    "sns.barplot(data=df, x='Test Case', y='Mean Time (s)', \n",
    "            hue='Implementation', capsize=0.1)\n",
    "plt.title('Matrix Multiplication Performance Comparison')\n",
    "plt.xticks(rotation=45)\n",
    "plt.yscale('log')  # Log scale for better visualization\n",
    "plt.tight_layout()\n",
    "plt.show()\n",
    "\n",
    "# Calculate speedups relative to CPU\n",
    "df_pivot = df.pivot(index='Test Case', columns='Implementation', \n",
    "                   values='Mean Time (s)')\n",
    "df_speedup = pd.DataFrame(index=df_pivot.index)\n",
    "cpu_times = df_pivot['NumPy (CPU)']\n",
    "\n",
    "for impl in ['CuPy', 'Numba']:\n",
    "    df_speedup[f'{impl} Speedup'] = cpu_times / df_pivot[impl]\n",
    "\n",
    "plt.figure(figsize=(15, 7))\n",
    "for col in df_speedup.columns:\n",
    "    plt.plot(df_speedup.index, df_speedup[col], 'o-', label=col, linewidth=2, markersize=10)\n",
    "plt.title('GPU Speedup over CPU')\n",
    "plt.xlabel('Test Case')\n",
    "plt.ylabel('Speedup Factor (higher is better)')\n",
    "plt.grid(True, alpha=0.3)\n",
    "plt.legend()\n",
    "plt.xticks(rotation=45)\n",
    "plt.tight_layout()\n",
    "plt.show()"
   ]
  },
  {
   "cell_type": "markdown",
   "metadata": {},
   "source": [
    "#### 5.2 GPU-Kernel Performance\n",
    "\n",
    "##### 5.3.1 Blocks und Input-Grösse\n",
    "\n",
    "Links: \n",
    "* [Examples: Matrix Multiplikation](https://numba.readthedocs.io/en/latest/cuda/examples.html)\n",
    "* [NVIDIA Kapitel zu \"Strided Access\"](https://spaces.technik.fhnw.ch/multimediathek/file/cuda-best-practices-in-c)\n",
    "* https://developer.nvidia.com/blog/cublas-strided-batched-matrix-multiply/\n",
    "* https://developer.nvidia.com/blog/how-access-global-memory-efficiently-cuda-c-kernels/\n",
    "\n",
    "Führe 2-3 Experimente mit unterschiedlichen Blockkonfigurationen und Grösse der Input-Daten durch. Erstelle dafür ein neues Datenset mit beliebig grossen Matrizen, da die GPU besonders geeignet ist um grosse Inputs zu verarbeiten (Verwende diese untschiedlich grossen Matrizen für alle nachfolgenden Vergeliche und Tasks ebenfalls). Messe die Performance des GPU-Kernels mittels geeigneten Funktionen. Welche Blockgrösse in Abhängigkeit mit der Input-Grösse hat sich bei dir basierend auf deinen Experimenten als am erfolgreichsten erwiesen? Welches sind deiner Meinung nach die Gründe dafür? Wie sind die Performance Unterschiede zwischen deiner CPU und GPU Implementierung? Diskutiere deine Analyse (ggf. mit Grafiken)."
   ]
  },
  {
   "cell_type": "code",
   "execution_count": null,
   "metadata": {},
   "outputs": [],
   "source": [
    "import cupy as cp\n",
    "import numpy as np\n",
    "from numba import cuda, float32\n",
    "import math\n",
    "import time\n",
    "from typing import Dict, List, Tuple\n",
    "import matplotlib.pyplot as plt\n",
    "import seaborn as sns\n",
    "import pandas as pd\n",
    "\n",
    "# Test matrices configurations (M, K, N) for multiplication of shape (M,K) * (K,N)\n",
    "test_matrices = [\n",
    "    (5120, 5120, 5120),     # ~26M elements\n",
    "    (8192, 4096, 8192),     # ~34M elements\n",
    "    (10240, 10240, 10240),  # ~105M elements\n",
    "    (16384, 8192, 8192),    # ~134M elements\n",
    "    (20480, 20480, 20480)   # ~419M elements\n",
    "]\n",
    "\n",
    "# Block configurations to test (threads_x, threads_y)\n",
    "block_configs = [\n",
    "    (8, 8),     # 64 threads\n",
    "    (16, 16),   # 256 threads\n",
    "    (32, 16),   # 512 threads\n",
    "    (32, 32)    # 1024 threads\n",
    "]\n",
    "\n",
    "def cpu_matmul(A: np.ndarray, B: np.ndarray) -> np.ndarray:\n",
    "    \"\"\"CPU implementation for comparison\"\"\"\n",
    "    return np.matmul(A, B)\n",
    "\n",
    "def run_gpu_experiment(A: np.ndarray, B: np.ndarray, block_size: Tuple[int, int], \n",
    "                      num_warmup: int = 3, num_runs: int = 3) -> Dict:\n",
    "    \"\"\"Run GPU experiment with specific block size including warmup runs\"\"\"\n",
    "    TPB_x, TPB_y = block_size\n",
    "    M, K = A.shape\n",
    "    K, N = B.shape\n",
    "    \n",
    "    # Copy to device\n",
    "    A_gpu = cuda.to_device(A)\n",
    "    B_gpu = cuda.to_device(B)\n",
    "    C_gpu = cuda.device_array((M, N), dtype=np.float32)\n",
    "\n",
    "    # Configure grid\n",
    "    threadsperblock = block_size\n",
    "    blockspergrid_x = math.ceil(M / TPB_x)\n",
    "    blockspergrid_y = math.ceil(N / TPB_y)\n",
    "    blockspergrid = (blockspergrid_x, blockspergrid_y)\n",
    "\n",
    "    # Warmup runs\n",
    "    print(f\"Performing {num_warmup} warmup runs...\")\n",
    "    for _ in range(num_warmup):\n",
    "        fast_matmul[blockspergrid, threadsperblock](A_gpu, B_gpu, C_gpu, TPB_x, TPB_y)\n",
    "        cuda.synchronize()\n",
    "\n",
    "    # Measurement runs\n",
    "    times = []\n",
    "    print(f\"Performing {num_runs} measurement runs...\")\n",
    "    for i in range(num_runs):\n",
    "        # Clear cache and synchronize\n",
    "        cuda.synchronize()\n",
    "        \n",
    "        start = time.perf_counter()\n",
    "        fast_matmul[blockspergrid, threadsperblock](A_gpu, B_gpu, C_gpu, TPB_x, TPB_y)\n",
    "        cuda.synchronize()\n",
    "        end = time.perf_counter()\n",
    "        \n",
    "        execution_time = end - start\n",
    "        times.append(execution_time)\n",
    "        print(f\"Run {i+1}: {execution_time:.4f} seconds\")\n",
    "\n",
    "    return {\n",
    "        'times': times,\n",
    "        'mean': np.mean(times),\n",
    "        'std': np.std(times),\n",
    "        'min': np.min(times),\n",
    "        'max': np.max(times)\n",
    "    }\n",
    "\n",
    "@cuda.jit\n",
    "def fast_matmul(A, B, C, TPB_x, TPB_y):\n",
    "    \"\"\"CUDA kernel for matrix multiplication using shared memory\"\"\"\n",
    "    # Define shared memory arrays\n",
    "    sA = cuda.shared.array(shape=(32, 32), dtype=float32)  # Using maximum possible size\n",
    "    sB = cuda.shared.array(shape=(32, 32), dtype=float32)\n",
    "\n",
    "    x, y = cuda.grid(2)\n",
    "    tx = cuda.threadIdx.x\n",
    "    ty = cuda.threadIdx.y\n",
    "    bpg = cuda.gridDim.x\n",
    "\n",
    "    # Use actual block size for calculations\n",
    "    TPB = min(TPB_x, TPB_y)\n",
    "\n",
    "    tmp = float32(0.)\n",
    "    for i in range(bpg):\n",
    "        # Preload data into shared memory\n",
    "        sA[ty, tx] = 0\n",
    "        sB[ty, tx] = 0\n",
    "        if y < A.shape[0] and (tx+i*TPB) < A.shape[1]:\n",
    "            sA[ty, tx] = A[y, tx + i * TPB]\n",
    "        if x < B.shape[1] and (ty+i*TPB) < B.shape[0]:\n",
    "            sB[ty, tx] = B[ty + i * TPB, x]\n",
    "\n",
    "        cuda.syncthreads()\n",
    "\n",
    "        for j in range(TPB):\n",
    "            tmp += sA[ty, j] * sB[j, tx]\n",
    "\n",
    "        cuda.syncthreads()\n",
    "\n",
    "    if y < C.shape[0] and x < C.shape[1]:\n",
    "        C[y, x] = tmp\n",
    "\n",
    "def run_experiments(save_results: bool = True):\n",
    "    results = []\n",
    "    \n",
    "    for m1, m2, m3 in test_matrices:\n",
    "        print(f\"\\nTesting matrix size: {m1}x{m2} * {m2}x{m3}\")\n",
    "        A = np.random.randn(m1, m2).astype(np.float32)\n",
    "        B = np.random.randn(m2, m3).astype(np.float32)\n",
    "\n",
    "        # CPU baseline\n",
    "        print(\"\\nRunning CPU baseline...\")\n",
    "        start = time.perf_counter()\n",
    "        cpu_matmul(A, B)\n",
    "        cpu_time = time.perf_counter() - start\n",
    "        print(f\"CPU Time: {cpu_time:.3f}s\")\n",
    "\n",
    "        # GPU experiments with different block sizes\n",
    "        for block_size in block_configs:\n",
    "            print(f\"\\nTesting block size: {block_size[0]}x{block_size[1]}\")\n",
    "            gpu_results = run_gpu_experiment(A, B, block_size)\n",
    "            speedup = cpu_time / gpu_results['mean']\n",
    "            \n",
    "            results.append({\n",
    "                'Matrix Size': f\"{m1}x{m2}x{m3}\",\n",
    "                'Block Size': f\"{block_size[0]}x{block_size[1]}\",\n",
    "                'CPU Time': cpu_time,\n",
    "                'GPU Time Mean': gpu_results['mean'],\n",
    "                'GPU Time Std': gpu_results['std'],\n",
    "                'Speedup': speedup,\n",
    "                'Elements': m1 * m2 * m3\n",
    "            })\n",
    "            \n",
    "            print(f\"Average GPU Time: {gpu_results['mean']:.4f}s (Speedup: {speedup:.2f}x)\")\n",
    "            print(f\"Std Dev: {gpu_results['std']:.4f}s\")\n",
    "\n",
    "    results_df = pd.DataFrame(results)\n",
    "    \n",
    "    if save_results:\n",
    "        results_df.to_csv('gpu_experiment_results.csv', index=False)\n",
    "        \n",
    "    return results_df\n",
    "\n",
    "def visualize_results(df: pd.DataFrame):\n",
    "    # Print detailed statistics\n",
    "    print(\"\\nDetailed Statistics:\")\n",
    "    print(\"=\" * 80)\n",
    "    stats = df.groupby(['Matrix Size', 'Block Size']).agg({\n",
    "        'GPU Time Mean': ['mean', 'std'],\n",
    "        'Speedup': ['mean', 'std']\n",
    "    }).round(4)\n",
    "    \n",
    "    print(stats)\n",
    "    \n",
    "if __name__ == \"__main__\":\n",
    "    results_df = run_experiments()\n",
    "    visualize_results(results_df)"
   ]
  },
  {
   "cell_type": "code",
   "execution_count": null,
   "metadata": {},
   "outputs": [],
   "source": [
    "paperspace@psxnjqiaev3w:~/working_dir/hs24-mc2/Work_Aaron/Exercise_2$ python3 Exercise_2.py\n",
    "\n",
    "Testing matrix size: 5120x5120 * 5120x5120\n",
    "\n",
    "Running CPU baseline...\n",
    "CPU Time: 0.522s\n",
    "\n",
    "Testing block size: 8x8\n",
    "Performing 3 warmup runs...\n",
    "Performing 3 measurement runs...\n",
    "Run 1: 1.1448 seconds\n",
    "Run 2: 1.1458 seconds\n",
    "Run 3: 1.1483 seconds\n",
    "Average GPU Time: 1.1463s (Speedup: 0.46x)\n",
    "Std Dev: 0.0015s\n",
    "\n",
    "Testing block size: 16x16\n",
    "Performing 3 warmup runs...\n",
    "Performing 3 measurement runs...\n",
    "Run 1: 0.6066 seconds\n",
    "Run 2: 0.6058 seconds\n",
    "Run 3: 0.6065 seconds\n",
    "Average GPU Time: 0.6063s (Speedup: 0.86x)\n",
    "Std Dev: 0.0003s\n",
    "\n",
    "Testing block size: 32x16\n",
    "Performing 3 warmup runs...\n",
    "Performing 3 measurement runs...\n",
    "Run 1: 0.2998 seconds\n",
    "Run 2: 0.2994 seconds\n",
    "Run 3: 0.2993 seconds\n",
    "Average GPU Time: 0.2995s (Speedup: 1.74x)\n",
    "Std Dev: 0.0002s\n",
    "\n",
    "Testing block size: 32x32\n",
    "Performing 3 warmup runs...\n",
    "Performing 3 measurement runs...\n",
    "Run 1: 0.5379 seconds\n",
    "Run 2: 0.5385 seconds\n",
    "Run 3: 0.5387 seconds\n",
    "Average GPU Time: 0.5383s (Speedup: 0.97x)\n",
    "Std Dev: 0.0003s\n",
    "\n",
    "Testing matrix size: 8192x4096 * 4096x8192\n",
    "\n",
    "Running CPU baseline...\n",
    "CPU Time: 0.976s\n",
    "\n",
    "Testing block size: 8x8\n",
    "Performing 3 warmup runs...\n",
    "Performing 3 measurement runs...\n",
    "Run 1: 4.0810 seconds\n",
    "Run 2: 4.0957 seconds\n",
    "Run 3: 4.1076 seconds\n",
    "Average GPU Time: 4.0948s (Speedup: 0.24x)\n",
    "Std Dev: 0.0109s\n",
    "\n",
    "Testing block size: 16x16\n",
    "Performing 3 warmup runs...\n",
    "Performing 3 measurement runs...\n",
    "Run 1: 2.3034 seconds\n",
    "Run 2: 2.3053 seconds\n",
    "Run 3: 2.3060 seconds\n",
    "Average GPU Time: 2.3049s (Speedup: 0.42x)\n",
    "Std Dev: 0.0011s\n",
    "\n",
    "Testing block size: 32x16\n",
    "Performing 3 warmup runs...\n",
    "Performing 3 measurement runs...\n",
    "Run 1: 1.2456 seconds\n",
    "Run 2: 1.2455 seconds\n",
    "Run 3: 1.2461 seconds\n",
    "Average GPU Time: 1.2457s (Speedup: 0.78x)\n",
    "Std Dev: 0.0002s\n",
    "\n",
    "Testing block size: 32x32\n",
    "Performing 3 warmup runs...\n",
    "Performing 3 measurement runs...\n",
    "Run 1: 2.0653 seconds\n",
    "Run 2: 2.0689 seconds\n",
    "Run 3: 2.0704 seconds\n",
    "Average GPU Time: 2.0682s (Speedup: 0.47x)\n",
    "Std Dev: 0.0021s\n",
    "\n",
    "Testing matrix size: 10240x10240 * 10240x10240\n",
    "\n",
    "Running CPU baseline...\n",
    "CPU Time: 3.695s\n",
    "\n",
    "Testing block size: 8x8\n",
    "Performing 3 warmup runs...\n",
    "Performing 3 measurement runs...\n",
    "Run 1: 9.6177 seconds\n",
    "Run 2: 9.6447 seconds\n",
    "Run 3: 9.6634 seconds\n",
    "Average GPU Time: 9.6419s (Speedup: 0.38x)\n",
    "Std Dev: 0.0188s\n",
    "\n",
    "Testing block size: 16x16\n",
    "Performing 3 warmup runs...\n",
    "Performing 3 measurement runs...\n",
    "Run 1: 5.0613 seconds\n",
    "Run 2: 5.0625 seconds\n",
    "Run 3: 5.0636 seconds\n",
    "Average GPU Time: 5.0625s (Speedup: 0.73x)\n",
    "Std Dev: 0.0009s\n",
    "\n",
    "Testing block size: 32x16\n",
    "Performing 3 warmup runs...\n",
    "Performing 3 measurement runs...\n",
    "Run 1: 2.4834 seconds\n",
    "Run 2: 2.4841 seconds\n",
    "Run 3: 2.4834 seconds\n",
    "Average GPU Time: 2.4836s (Speedup: 1.49x)\n",
    "Std Dev: 0.0003s\n",
    "\n",
    "Testing block size: 32x32\n",
    "Performing 3 warmup runs...\n",
    "Performing 3 measurement runs...\n",
    "Run 1: 4.4736 seconds\n",
    "Run 2: 4.4734 seconds\n",
    "Run 3: 4.4737 seconds\n",
    "Average GPU Time: 4.4736s (Speedup: 0.83x)\n",
    "Std Dev: 0.0001s\n",
    "\n",
    "Testing matrix size: 16384x8192 * 8192x8192\n",
    "\n",
    "Running CPU baseline...\n",
    "CPU Time: 3.785s\n",
    "\n",
    "Testing block size: 8x8\n",
    "Performing 3 warmup runs...\n",
    "Performing 3 measurement runs...\n",
    "Run 1: 15.7318 seconds\n",
    "Run 2: 15.7595 seconds\n",
    "Run 3: 15.7661 seconds\n",
    "Average GPU Time: 15.7525s (Speedup: 0.24x)\n",
    "Std Dev: 0.0148s\n",
    "\n",
    "Testing block size: 16x16\n",
    "Performing 3 warmup runs...\n",
    "Performing 3 measurement runs...\n",
    "Run 1: 8.8230 seconds\n",
    "Run 2: 8.8254 seconds\n",
    "Run 3: 8.8244 seconds\n",
    "Average GPU Time: 8.8243s (Speedup: 0.43x)\n",
    "Std Dev: 0.0010s\n",
    "\n",
    "Testing block size: 32x16\n",
    "Performing 3 warmup runs...\n",
    "Performing 3 measurement runs...\n",
    "Run 1: 4.6674 seconds\n",
    "Run 2: 4.6684 seconds\n",
    "Run 3: 4.6660 seconds\n",
    "Average GPU Time: 4.6673s (Speedup: 0.81x)\n",
    "Std Dev: 0.0010s\n",
    "\n",
    "Testing block size: 32x32\n",
    "Performing 3 warmup runs...\n",
    "Performing 3 measurement runs...\n",
    "Run 1: 7.9726 seconds\n",
    "Run 2: 7.9723 seconds\n",
    "Run 3: 7.9719 seconds\n",
    "Average GPU Time: 7.9723s (Speedup: 0.47x)\n",
    "Std Dev: 0.0003s\n",
    "\n",
    "Testing matrix size: 20480x20480 * 20480x20480\n",
    "\n",
    "Running CPU baseline...\n",
    "CPU Time: 34.641s\n",
    "\n",
    "Testing block size: 8x8\n",
    "Performing 3 warmup runs...\n",
    "Performing 3 measurement runs...\n",
    "Run 1: 77.9883 seconds\n",
    "Run 2: 77.9565 seconds\n",
    "Run 3: 77.9612 seconds\n",
    "Average GPU Time: 77.9687s (Speedup: 0.44x)\n",
    "Std Dev: 0.0140s\n",
    "\n",
    "Testing block size: 16x16\n",
    "Performing 3 warmup runs...\n",
    "Performing 3 measurement runs...\n",
    "Run 1: 40.5503 seconds\n",
    "Run 2: 40.5379 seconds\n",
    "Run 3: 40.5084 seconds\n",
    "Average GPU Time: 40.5322s (Speedup: 0.85x)\n",
    "Std Dev: 0.0176s\n",
    "\n",
    "Testing block size: 32x16\n",
    "Performing 3 warmup runs...\n",
    "Performing 3 measurement runs...\n",
    "Run 1: 19.9246 seconds\n",
    "Run 2: 19.9183 seconds\n",
    "Run 3: 19.9216 seconds\n",
    "Average GPU Time: 19.9215s (Speedup: 1.74x)\n",
    "Std Dev: 0.0026s\n",
    "\n",
    "Testing block size: 32x32\n",
    "Performing 3 warmup runs...\n",
    "Performing 3 measurement runs...\n",
    "Run 1: 35.7928 seconds\n",
    "Run 2: 35.7926 seconds\n",
    "Run 3: 35.7917 seconds\n",
    "Average GPU Time: 35.7924s (Speedup: 0.97x)\n",
    "Std Dev: 0.0005s"
   ]
  },
  {
   "cell_type": "code",
   "execution_count": 4,
   "metadata": {},
   "outputs": [
    {
     "data": {
      "image/png": "[encoded data removed]",
      "text/plain": [
       "<Figure size 1500x700 with 1 Axes>"
      ]
     },
     "metadata": {},
     "output_type": "display_data"
    },
    {
     "data": {
      "image/png": "[encoded data removed]",
      "text/plain": [
       "<Figure size 1500x700 with 1 Axes>"
      ]
     },
     "metadata": {},
     "output_type": "display_data"
    }
   ],
   "source": [
    "import pandas as pd\n",
    "import seaborn as sns\n",
    "import matplotlib.pyplot as plt\n",
    "\n",
    "df = pd.read_csv('Work_Aaron/Exercise_2/gpu_experiment_results.csv')\n",
    "\n",
    "# Performance by block size\n",
    "plt.figure(figsize=(15, 7))\n",
    "sns.barplot(data=df, x='Matrix Size', y='GPU Time Mean', hue='Block Size')\n",
    "plt.title('GPU Execution Time by Block Size and Matrix Size')\n",
    "plt.xticks(rotation=45)\n",
    "plt.ylabel('Time (seconds)')\n",
    "plt.tight_layout()\n",
    "plt.show()\n",
    "\n",
    "# Speedup comparison\n",
    "plt.figure(figsize=(15, 7))\n",
    "sns.barplot(data=df, x='Matrix Size', y='Speedup', hue='Block Size')\n",
    "plt.title('GPU vs CPU Speedup by Block Size and Matrix Size')\n",
    "plt.xticks(rotation=45)\n",
    "plt.ylabel('Speedup (x times faster)')\n",
    "plt.tight_layout()\n",
    "plt.show()"
   ]
  },
  {
   "cell_type": "markdown",
   "metadata": {},
   "source": [
    "<font color='blue'>\n",
    "Man sieht das es zwischen den verschieden Testfällen sehr grosse Unterschiede gibt. Wenn man die Blöcke anschaut sieht es so aus, dass die schnellsten Berechnungen mit der Definition von 32 x 16 Blöcken gemacht worden ist. Unabhängig der Matrix wurde damit die besten Messungen erzeugt. Man sieht es ziemlich genau in den beiden Graphen. Ich konnte die Daten exportieren, da ich sie nicht visualisieren Konte aus der Remote SSH Verbindung.\n",
    "\n",
    "Bezüglich dem grossen Unterschied zwischen quadratischen und nicht quadratischen Matrix Multiplikationen: Eine mögliche Erklärung für die bessere GPU-Performance bei der 10240x10240x10240 Matrix im Vergleich zu 8192x4096x8192 liegt in der quadratischen Struktur. Die einheitliche Größe ermöglicht vermutlich eine bessere Verteilung der Berechnungen auf die GPU-Threads und effizientere Speicherzugriffe. Bei der nicht-quadratischen Matrix mit K=4096 entstehen wahrscheinlich unregelmäßigere Zugriffsmuster, die die GPU weniger gut verarbeiten kann als die CPU mit ihrem größeren Cache. Dies könnte den deutlichen Unterschied im Speedup zwischen den beiden Fällen erklären.\n",
    "\n",
    "</font>"
   ]
  },
  {
   "cell_type": "markdown",
   "metadata": {},
   "source": [
    "Recherche 32 x 16:\n",
    "Die 32x16 Blockgröße bietet bei der GPU-Matrixmultiplikation die optimale Performance aufgrund mehrerer wichtiger Hardware-Eigenschaften. Die Breite von 32 Threads passt perfekt zu einem Warp (der kleinsten Ausführungseinheit der GPU), was maximale Ausführungseffizienz gewährleistet. Die Höhe von 16 Threads reduziert dabei Bank-Konflikte im Shared Memory und ermöglicht eine bessere Balance zwischen Parallelität und Ressourcennutzung. Mit insgesamt 512 Threads pro Block wird eine ideale Occupancy erreicht, da mehrere Blocks gleichzeitig auf einem Streaming Multiprocessor (SM) aktiv sein können, was bei größeren Konfigurationen wie 32x32 (1024 Threads) nicht möglich wäre.\n",
    "\n",
    "Die 32er-Breite unterstützt zudem optimales Memory Coalescing, wodurch zusammenhängende Speicherzugriffe effizient gebündelt werden. Der geringere Registerbedarf im Vergleich zu größeren Blockkonfigurationen erlaubt mehr aktive Warps und damit eine bessere Latenz-Verdeckung. Gleichzeitig wird der Shared Memory effizient genutzt, da genügend Platz für mehrere aktive Blocks bleibt. Diese Kombination aus Warp-Ausrichtung, effizienter Speichernutzung und optimaler Thread-Parallelität führt zu der beobachteten überlegenen Performance bei der Matrixmultiplikation.\n"
   ]
  },
  {
   "cell_type": "markdown",
   "metadata": {},
   "source": [
    "<font color='blue'></font>"
   ]
  },
  {
   "cell_type": "markdown",
   "metadata": {},
   "source": [
    "##### 5.2.2 Shared Memory auf der GPU\n",
    "Optimiere deine Implementierung von oben indem du das shared Memory der GPU verwendest. Führe wieder mehrere Experimente mit unterschiedlicher Datengrösse durch und evaluiere den Speedup gegenüber der CPU Implementierung.\n",
    "\n",
    "Links:\n",
    "* [Best Practices Memory Optimizations](https://docs.nvidia.com/cuda/cuda-c-best-practices-guide/index.html#memory-optimizations)\n",
    "* [Examples: Matrix Multiplikation und Shared Memory](https://numba.readthedocs.io/en/latest/cuda/examples.html)"
   ]
  },
  {
   "cell_type": "markdown",
   "metadata": {},
   "source": [
    "Was sind deine Erkenntnisse bzgl. GPU-Memory-Allokation und des Daten-Transferes auf die GPU? Interpretiere deine Resultate."
   ]
  },
  {
   "cell_type": "markdown",
   "metadata": {},
   "source": [
    "<font color='blue'>Antwort hier eingeben</font>"
   ]
  },
  {
   "cell_type": "markdown",
   "metadata": {},
   "source": [
    "##### 5.2.3 Bonus: Weitere Optimierungen\n",
    "Optimiere deine Implementation von oben weiter. Damit du Erfolg hast, muss der Data-Reuse noch grösser sein."
   ]
  },
  {
   "cell_type": "code",
   "execution_count": null,
   "metadata": {},
   "outputs": [],
   "source": [
    "### BEGIN SOLUTION\n",
    "\n",
    "### END SOLUTION"
   ]
  },
  {
   "cell_type": "markdown",
   "metadata": {},
   "source": [
    "#### 5.3 NVIDIA Profiler\n",
    "\n",
    "Benutze einen Performance Profiler von NVIDIA, um Bottlenecks in deinem Code zu identifizieren bzw. unterschiedliche Implementierungen (Blocks, Memory etc.) zu vergleichen. \n",
    "\n",
    "* Siehe Beispiel example_profiling_CUDA.ipynb\n",
    "* [Nsight](https://developer.nvidia.com/nsight-visual-studio-edition) für das Profiling des Codes und die Inspektion der Ergebnisse (neuste Variante)\n",
    "* [nvprof](https://docs.nvidia.com/cuda/profiler-users-guide/index.html#nvprof-overview)\n",
    "* [Nvidia Visual Profiler](https://docs.nvidia.com/cuda/profiler-users-guide/index.html#visual)\n",
    "\n",
    "> Du kannst NVIDIA Nsights Systems und den Nvidia Visual Profiler auf deinem PC installieren und die Leistungsergebnisse aus einer Remote-Instanz visualisieren, auch wenn du keine GPU an/in deinem PC hast. Dafür kannst du die ``*.qdrep`` Datei generieren und danach lokal laden.\n",
    "\n",
    "\n",
    "Dokumentiere deine Analyse ggf. mit 1-2 Visualisierungen und beschreibe, welche Bottlenecks du gefunden bzw. entschärft hast."
   ]
  },
  {
   "cell_type": "markdown",
   "metadata": {},
   "source": [
    "<font color='blue'>Antwort hier eingeben inkl. Bild.</font>"
   ]
  },
  {
   "cell_type": "markdown",
   "metadata": {
    "collapsed": false,
    "jupyter": {
     "outputs_hidden": false
    }
   },
   "source": [
    "### 6 Beschleunigte Rekonstruktion mehrerer Bilder\n",
    "#### 6.1 Implementierung\n",
    "Verwende einige der in bisher gelernten Konzepte, um mehrere Bilder gleichzeitig parallel zu rekonstruieren. Weshalb hast du welche Konzepte für deine Implementierung verwenden? Versuche die GPU konstant auszulasten und so auch die verschiedenen Engines der GPU parallel zu brauchen. Untersuche dies auch für grössere Inputs als die MRI-Bilder."
   ]
  },
  {
   "cell_type": "code",
   "execution_count": null,
   "metadata": {
    "collapsed": false,
    "jupyter": {
     "outputs_hidden": false
    }
   },
   "outputs": [],
   "source": [
    "### BEGIN SOLUTION\n",
    "\n",
    "### END SOLUTION"
   ]
  },
  {
   "cell_type": "markdown",
   "metadata": {},
   "source": [
    "<font color='blue'>Antwort hier eingeben</font>"
   ]
  },
  {
   "cell_type": "markdown",
   "metadata": {
    "collapsed": false,
    "jupyter": {
     "outputs_hidden": false
    }
   },
   "source": [
    "#### 6.2 Analyse\n",
    "Vergleiche den Speedup für deine parallele Implementierung im Vergleich zur seriellen Rekonstruktion einzelner Bilder. Analysiere und diskutiere in diesem Zusammenhang die Gesetze von Amdahl und Gustafson."
   ]
  },
  {
   "cell_type": "markdown",
   "metadata": {
    "collapsed": false,
    "jupyter": {
     "outputs_hidden": false
    }
   },
   "source": [
    "<font color='blue'>Antwort hier eingeben</font>"
   ]
  },
  {
   "cell_type": "markdown",
   "metadata": {
    "collapsed": false,
    "jupyter": {
     "outputs_hidden": false
    }
   },
   "source": [
    "#### 6.3 Komponentendiagramm\n",
    "\n",
    "Erstelle das Komponentendiagramm dieser Mini-Challenge für die Rekunstruktion mehrere Bilder mit einer GPU-Implementierung. Erläutere das Komponentendigramm in 3-4 Sätzen.\n"
   ]
  },
  {
   "cell_type": "markdown",
   "metadata": {
    "collapsed": false,
    "jupyter": {
     "outputs_hidden": false
    }
   },
   "source": [
    "<font color='blue'>Antwort hier eingeben inkl. Bild(ern).</font>"
   ]
  },
  {
   "cell_type": "markdown",
   "metadata": {
    "collapsed": false,
    "jupyter": {
     "outputs_hidden": false
    }
   },
   "source": [
    "### 7 Reflexion\n",
    "\n",
    "Reflektiere die folgenden Themen indem du in 3-5 Sätzen begründest und anhand von Beispielen erklärst."
   ]
  },
  {
   "cell_type": "markdown",
   "metadata": {
    "collapsed": false,
    "jupyter": {
     "outputs_hidden": false
    }
   },
   "source": [
    "1: Was sind deiner Meinung nach die 3 wichtigsten Prinzipien bei der Beschleunigung von Code?\n",
    "\n",
    "<font color='blue'>Antwort hier eingeben</font>"
   ]
  },
  {
   "cell_type": "markdown",
   "metadata": {
    "collapsed": false,
    "jupyter": {
     "outputs_hidden": false
    }
   },
   "source": [
    "2: Welche Rechenarchitekturen der Flynnschen Taxonomie wurden in dieser Mini-Challenge wie verwendet?\n",
    "\n",
    "<font color='blue'>Antwort hier eingeben</font>"
   ]
  },
  {
   "cell_type": "markdown",
   "metadata": {
    "collapsed": false,
    "jupyter": {
     "outputs_hidden": false
    }
   },
   "source": [
    "3: Haben wir es in dieser Mini-Challenge hauptsächlich mit CPU- oder IO-Bound Problemen zu tun? Nenne Beispiele.\n",
    "\n",
    "<font color='blue'>Antwort hier eingeben</font>"
   ]
  },
  {
   "cell_type": "markdown",
   "metadata": {
    "collapsed": false,
    "jupyter": {
     "outputs_hidden": false
    }
   },
   "source": [
    "4: Wie könnte diese Anwendung in einem Producer-Consumer Design konzipiert werden?\n",
    "\n",
    "<font color='blue'>Antwort hier eingeben</font>"
   ]
  },
  {
   "cell_type": "markdown",
   "metadata": {
    "collapsed": false,
    "jupyter": {
     "outputs_hidden": false
    }
   },
   "source": [
    "5: Was sind die wichtigsten Grundlagen, um mehr Performance auf der GPU in dieser Mini-Challenge zu erreichen?\n",
    "\n",
    "<font color='blue'>Antwort hier eingeben</font>"
   ]
  },
  {
   "cell_type": "markdown",
   "metadata": {
    "collapsed": false,
    "jupyter": {
     "outputs_hidden": false
    }
   },
   "source": [
    "6: Reflektiere die Mini-Challenge. Was ist gut gelaufen? Wo gab es Probleme? Wo hast du mehr Zeit als geplant gebraucht? Was hast du dabei gelernt? Was hat dich überrascht? Was hättest du zusätzlich lernen wollen? Würdest du gewisse Fragestellungen anders formulieren? Wenn ja, wie?\n",
    "\n",
    "<font color='blue'>Antwort hier eingeben</font>"
   ]
  },
  {
   "cell_type": "code",
   "execution_count": null,
   "metadata": {
    "collapsed": false,
    "jupyter": {
     "outputs_hidden": false
    }
   },
   "outputs": [],
   "source": []
  }
 ],
 "metadata": {
  "kernelspec": {
   "display_name": "Python 3 (ipykernel)",
   "language": "python",
   "name": "python3"
  },
  "language_info": {
   "codemirror_mode": {
    "name": "ipython",
    "version": 3
   },
   "file_extension": ".py",
   "mimetype": "text/x-python",
   "name": "python",
   "nbconvert_exporter": "python",
   "pygments_lexer": "ipython3",
   "version": "3.10.12"
  }
 },
 "nbformat": 4,
 "nbformat_minor": 4
}
